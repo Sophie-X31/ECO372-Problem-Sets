{
  "nbformat": 4,
  "nbformat_minor": 0,
  "metadata": {
    "colab": {
      "provenance": [],
      "authorship_tag": "ABX9TyN9IZBqSRWucsBf/hb3kRlb",
      "include_colab_link": true
    },
    "kernelspec": {
      "name": "ir",
      "display_name": "R"
    },
    "language_info": {
      "name": "R"
    }
  },
  "cells": [
    {
      "cell_type": "markdown",
      "metadata": {
        "id": "view-in-github",
        "colab_type": "text"
      },
      "source": [
        "<a href=\"https://colab.research.google.com/github/Sophie-X31/ECO372-Problem-Sets/blob/main/Problem_Set_1.ipynb\" target=\"_parent\"><img src=\"https://colab.research.google.com/assets/colab-badge.svg\" alt=\"Open In Colab\"/></a>"
      ]
    },
    {
      "cell_type": "code",
      "execution_count": 5,
      "metadata": {
        "colab": {
          "base_uri": "https://localhost:8080/"
        },
        "id": "ZKhz7hrrQYi8",
        "outputId": "9f3bab88-3dd2-4d19-844a-d3758f432089"
      },
      "outputs": [
        {
          "output_type": "stream",
          "name": "stderr",
          "text": [
            "Installing package into ‘/usr/local/lib/R/site-library’\n",
            "(as ‘lib’ is unspecified)\n",
            "\n"
          ]
        }
      ],
      "source": [
        "## Import Statements\n",
        "install.packages(\"haven\")\n",
        "library(haven)\n",
        "library(dplyr)"
      ]
    },
    {
      "cell_type": "code",
      "source": [
        "## Load Data File\n",
        "url <- \"https://raw.githubusercontent.com/Sophie-X31/ECO372-Problem-Sets/main/ps1_lakisha_aer.dta\"\n",
        "data <- read_dta(url)\n",
        "# head(data)"
      ],
      "metadata": {
        "colab": {
          "base_uri": "https://localhost:8080/",
          "height": 306
        },
        "id": "xFDqoKp5RqGR",
        "outputId": "8eb66dc7-2aca-4ce1-abed-f9d7c823340b"
      },
      "execution_count": 6,
      "outputs": [
        {
          "output_type": "display_data",
          "data": {
            "text/html": [
              "<table class=\"dataframe\">\n",
              "<caption>A tibble: 6 × 65</caption>\n",
              "<thead>\n",
              "\t<tr><th scope=col>id</th><th scope=col>ad</th><th scope=col>education</th><th scope=col>ofjobs</th><th scope=col>yearsexp</th><th scope=col>honors</th><th scope=col>volunteer</th><th scope=col>military</th><th scope=col>empholes</th><th scope=col>occupspecific</th><th scope=col>⋯</th><th scope=col>compreq</th><th scope=col>orgreq</th><th scope=col>manuf</th><th scope=col>transcom</th><th scope=col>bankreal</th><th scope=col>trade</th><th scope=col>busservice</th><th scope=col>othservice</th><th scope=col>missind</th><th scope=col>ownership</th></tr>\n",
              "\t<tr><th scope=col>&lt;chr&gt;</th><th scope=col>&lt;chr&gt;</th><th scope=col>&lt;dbl&gt;</th><th scope=col>&lt;dbl&gt;</th><th scope=col>&lt;dbl&gt;</th><th scope=col>&lt;dbl&gt;</th><th scope=col>&lt;dbl&gt;</th><th scope=col>&lt;dbl&gt;</th><th scope=col>&lt;dbl&gt;</th><th scope=col>&lt;dbl&gt;</th><th scope=col>⋯</th><th scope=col>&lt;dbl&gt;</th><th scope=col>&lt;dbl&gt;</th><th scope=col>&lt;dbl&gt;</th><th scope=col>&lt;dbl&gt;</th><th scope=col>&lt;dbl&gt;</th><th scope=col>&lt;dbl&gt;</th><th scope=col>&lt;dbl&gt;</th><th scope=col>&lt;dbl&gt;</th><th scope=col>&lt;dbl&gt;</th><th scope=col>&lt;chr&gt;</th></tr>\n",
              "</thead>\n",
              "<tbody>\n",
              "\t<tr><td>b</td><td>1</td><td>4</td><td>2</td><td> 6</td><td>0</td><td>0</td><td>0</td><td>1</td><td> 17</td><td>⋯</td><td>1</td><td>0</td><td>1</td><td>0</td><td>0</td><td>0</td><td>0</td><td>0</td><td>0</td><td>         </td></tr>\n",
              "\t<tr><td>b</td><td>1</td><td>3</td><td>3</td><td> 6</td><td>0</td><td>1</td><td>1</td><td>0</td><td>316</td><td>⋯</td><td>1</td><td>0</td><td>1</td><td>0</td><td>0</td><td>0</td><td>0</td><td>0</td><td>0</td><td>         </td></tr>\n",
              "\t<tr><td>b</td><td>1</td><td>4</td><td>1</td><td> 6</td><td>0</td><td>0</td><td>0</td><td>0</td><td> 19</td><td>⋯</td><td>1</td><td>0</td><td>1</td><td>0</td><td>0</td><td>0</td><td>0</td><td>0</td><td>0</td><td>         </td></tr>\n",
              "\t<tr><td>b</td><td>1</td><td>3</td><td>4</td><td> 6</td><td>0</td><td>1</td><td>0</td><td>1</td><td>313</td><td>⋯</td><td>1</td><td>0</td><td>1</td><td>0</td><td>0</td><td>0</td><td>0</td><td>0</td><td>0</td><td>         </td></tr>\n",
              "\t<tr><td>b</td><td>1</td><td>3</td><td>3</td><td>22</td><td>0</td><td>0</td><td>0</td><td>0</td><td>313</td><td>⋯</td><td>1</td><td>1</td><td>0</td><td>0</td><td>0</td><td>0</td><td>0</td><td>1</td><td>0</td><td>Nonprofit</td></tr>\n",
              "\t<tr><td>b</td><td>1</td><td>4</td><td>2</td><td> 6</td><td>1</td><td>0</td><td>0</td><td>0</td><td>266</td><td>⋯</td><td>0</td><td>0</td><td>0</td><td>0</td><td>0</td><td>1</td><td>0</td><td>0</td><td>0</td><td>Private  </td></tr>\n",
              "</tbody>\n",
              "</table>\n"
            ],
            "text/markdown": "\nA tibble: 6 × 65\n\n| id &lt;chr&gt; | ad &lt;chr&gt; | education &lt;dbl&gt; | ofjobs &lt;dbl&gt; | yearsexp &lt;dbl&gt; | honors &lt;dbl&gt; | volunteer &lt;dbl&gt; | military &lt;dbl&gt; | empholes &lt;dbl&gt; | occupspecific &lt;dbl&gt; | ⋯ ⋯ | compreq &lt;dbl&gt; | orgreq &lt;dbl&gt; | manuf &lt;dbl&gt; | transcom &lt;dbl&gt; | bankreal &lt;dbl&gt; | trade &lt;dbl&gt; | busservice &lt;dbl&gt; | othservice &lt;dbl&gt; | missind &lt;dbl&gt; | ownership &lt;chr&gt; |\n|---|---|---|---|---|---|---|---|---|---|---|---|---|---|---|---|---|---|---|---|---|\n| b | 1 | 4 | 2 |  6 | 0 | 0 | 0 | 1 |  17 | ⋯ | 1 | 0 | 1 | 0 | 0 | 0 | 0 | 0 | 0 | <!----> |\n| b | 1 | 3 | 3 |  6 | 0 | 1 | 1 | 0 | 316 | ⋯ | 1 | 0 | 1 | 0 | 0 | 0 | 0 | 0 | 0 | <!----> |\n| b | 1 | 4 | 1 |  6 | 0 | 0 | 0 | 0 |  19 | ⋯ | 1 | 0 | 1 | 0 | 0 | 0 | 0 | 0 | 0 | <!----> |\n| b | 1 | 3 | 4 |  6 | 0 | 1 | 0 | 1 | 313 | ⋯ | 1 | 0 | 1 | 0 | 0 | 0 | 0 | 0 | 0 | <!----> |\n| b | 1 | 3 | 3 | 22 | 0 | 0 | 0 | 0 | 313 | ⋯ | 1 | 1 | 0 | 0 | 0 | 0 | 0 | 1 | 0 | Nonprofit |\n| b | 1 | 4 | 2 |  6 | 1 | 0 | 0 | 0 | 266 | ⋯ | 0 | 0 | 0 | 0 | 0 | 1 | 0 | 0 | 0 | Private   |\n\n",
            "text/latex": "A tibble: 6 × 65\n\\begin{tabular}{lllllllllllllllllllll}\n id & ad & education & ofjobs & yearsexp & honors & volunteer & military & empholes & occupspecific & ⋯ & compreq & orgreq & manuf & transcom & bankreal & trade & busservice & othservice & missind & ownership\\\\\n <chr> & <chr> & <dbl> & <dbl> & <dbl> & <dbl> & <dbl> & <dbl> & <dbl> & <dbl> & ⋯ & <dbl> & <dbl> & <dbl> & <dbl> & <dbl> & <dbl> & <dbl> & <dbl> & <dbl> & <chr>\\\\\n\\hline\n\t b & 1 & 4 & 2 &  6 & 0 & 0 & 0 & 1 &  17 & ⋯ & 1 & 0 & 1 & 0 & 0 & 0 & 0 & 0 & 0 &          \\\\\n\t b & 1 & 3 & 3 &  6 & 0 & 1 & 1 & 0 & 316 & ⋯ & 1 & 0 & 1 & 0 & 0 & 0 & 0 & 0 & 0 &          \\\\\n\t b & 1 & 4 & 1 &  6 & 0 & 0 & 0 & 0 &  19 & ⋯ & 1 & 0 & 1 & 0 & 0 & 0 & 0 & 0 & 0 &          \\\\\n\t b & 1 & 3 & 4 &  6 & 0 & 1 & 0 & 1 & 313 & ⋯ & 1 & 0 & 1 & 0 & 0 & 0 & 0 & 0 & 0 &          \\\\\n\t b & 1 & 3 & 3 & 22 & 0 & 0 & 0 & 0 & 313 & ⋯ & 1 & 1 & 0 & 0 & 0 & 0 & 0 & 1 & 0 & Nonprofit\\\\\n\t b & 1 & 4 & 2 &  6 & 1 & 0 & 0 & 0 & 266 & ⋯ & 0 & 0 & 0 & 0 & 0 & 1 & 0 & 0 & 0 & Private  \\\\\n\\end{tabular}\n",
            "text/plain": [
              "  id ad education ofjobs yearsexp honors volunteer military empholes\n",
              "1 b  1  4         2       6       0      0         0        1       \n",
              "2 b  1  3         3       6       0      1         1        0       \n",
              "3 b  1  4         1       6       0      0         0        0       \n",
              "4 b  1  3         4       6       0      1         0        1       \n",
              "5 b  1  3         3      22       0      0         0        0       \n",
              "6 b  1  4         2       6       1      0         0        0       \n",
              "  occupspecific ⋯ compreq orgreq manuf transcom bankreal trade busservice\n",
              "1  17           ⋯ 1       0      1     0        0        0     0         \n",
              "2 316           ⋯ 1       0      1     0        0        0     0         \n",
              "3  19           ⋯ 1       0      1     0        0        0     0         \n",
              "4 313           ⋯ 1       0      1     0        0        0     0         \n",
              "5 313           ⋯ 1       1      0     0        0        0     0         \n",
              "6 266           ⋯ 0       0      0     0        0        1     0         \n",
              "  othservice missind ownership\n",
              "1 0          0                \n",
              "2 0          0                \n",
              "3 0          0                \n",
              "4 0          0                \n",
              "5 1          0       Nonprofit\n",
              "6 0          0       Private  "
            ]
          },
          "metadata": {}
        }
      ]
    },
    {
      "cell_type": "code",
      "source": [
        "## Inspect Data\n",
        "# print(dim(data))\n",
        "# print(colnames(data))\n",
        "# print(\"Number of NA values in Columns:\")\n",
        "# na_columns <- colSums(is.na(data))\n",
        "# print(na_columns[na_columns > 0])\n",
        "# unique(data$race)\n",
        "\n",
        "## Select Columns\n",
        "summary_stats <- data %>%\n",
        "  group_by(race) %>%\n",
        "  summarise(\n",
        "    mean_col = mean(col, na.rm = TRUE),\n",
        "    sd_col = sd(col, na.rm = TRUE),\n",
        "    mean_yearsexp = mean(yearsexp, na.rm = TRUE),\n",
        "    sd_yearsexp = sd(yearsexp, na.rm = TRUE),\n",
        "    mean_computerskills = mean(computerskills, na.rm = TRUE),\n",
        "    sd_computerskills = sd(computerskills, na.rm = TRUE)\n",
        "  ) %>%\n",
        "  filter(race %in% c(\"w\", \"b\"))\n",
        "\n",
        "## Replicate Table\n",
        "rep_table <- data.frame(\n",
        "  rownames = c(\n",
        "    \"College degree (mean)\",\n",
        "    \"College degree (std)\",\n",
        "    \"Years of experience (mean)\",\n",
        "    \"Years of experience (std)\",\n",
        "    \"Computer skills? (mean)\",\n",
        "    \"Computer skills? (std)\"\n",
        "  ),\n",
        "  `White names` = c(\n",
        "  round(summary_stats$mean_col[summary_stats$race == \"w\"], 2),\n",
        "  round(summary_stats$sd_col[summary_stats$race == \"w\"], 2),\n",
        "  round(summary_stats$mean_yearsexp[summary_stats$race == \"w\"], 2),\n",
        "  round(summary_stats$sd_yearsexp[summary_stats$race == \"w\"], 2),\n",
        "  round(summary_stats$mean_computerskills[summary_stats$race == \"w\"], 2),\n",
        "  round(summary_stats$sd_computerskills[summary_stats$race == \"w\"], 2)\n",
        "  ),\n",
        "  `African-American` = c(\n",
        "    round(summary_stats$mean_col[summary_stats$race == \"b\"], 2),\n",
        "    round(summary_stats$sd_col[summary_stats$race == \"b\"], 2),\n",
        "    round(summary_stats$mean_yearsexp[summary_stats$race == \"b\"], 2),\n",
        "    round(summary_stats$sd_yearsexp[summary_stats$race == \"b\"], 2),\n",
        "    round(summary_stats$mean_computerskills[summary_stats$race == \"b\"], 2),\n",
        "    round(summary_stats$sd_computerskills[summary_stats$race == \"b\"], 2)\n",
        "  )\n",
        ")\n",
        "\n",
        "print(rep_table)"
      ],
      "metadata": {
        "colab": {
          "base_uri": "https://localhost:8080/"
        },
        "id": "oeBHan0jRy8Y",
        "outputId": "c318d25c-501c-4bc8-f659-86556cbca419"
      },
      "execution_count": 14,
      "outputs": [
        {
          "output_type": "stream",
          "name": "stdout",
          "text": [
            "                    rownames White.names African.American\n",
            "1      College degree (mean)        0.72             0.72\n",
            "2       College degree (std)        0.45             0.45\n",
            "3 Years of experience (mean)        7.86             7.83\n",
            "4  Years of experience (std)        5.08             5.01\n",
            "5    Computer skills? (mean)        0.81             0.83\n",
            "6     Computer skills? (std)        0.39             0.37\n"
          ]
        }
      ]
    }
  ]
}