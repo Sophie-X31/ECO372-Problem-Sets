{
  "nbformat": 4,
  "nbformat_minor": 0,
  "metadata": {
    "colab": {
      "provenance": [],
      "authorship_tag": "ABX9TyMKqDTl5k+xIEjWtrpJtPYj",
      "include_colab_link": true
    },
    "kernelspec": {
      "name": "ir",
      "display_name": "R"
    },
    "language_info": {
      "name": "R"
    }
  },
  "cells": [
    {
      "cell_type": "markdown",
      "metadata": {
        "id": "view-in-github",
        "colab_type": "text"
      },
      "source": [
        "<a href=\"https://colab.research.google.com/github/Sophie-X31/ECO372-Problem-Sets/blob/main/Problem_Set_2.ipynb\" target=\"_parent\"><img src=\"https://colab.research.google.com/assets/colab-badge.svg\" alt=\"Open In Colab\"/></a>"
      ]
    },
    {
      "cell_type": "code",
      "execution_count": 1,
      "metadata": {
        "colab": {
          "base_uri": "https://localhost:8080/"
        },
        "collapsed": true,
        "id": "j-qFjAgNOAXG",
        "outputId": "981e3f60-25c0-40b3-c0bf-3b29eaa34b4e"
      },
      "outputs": [
        {
          "output_type": "stream",
          "name": "stderr",
          "text": [
            "Installing package into ‘/usr/local/lib/R/site-library’\n",
            "(as ‘lib’ is unspecified)\n",
            "\n",
            "\n",
            "Attaching package: ‘dplyr’\n",
            "\n",
            "\n",
            "The following objects are masked from ‘package:stats’:\n",
            "\n",
            "    filter, lag\n",
            "\n",
            "\n",
            "The following objects are masked from ‘package:base’:\n",
            "\n",
            "    intersect, setdiff, setequal, union\n",
            "\n",
            "\n"
          ]
        }
      ],
      "source": [
        "## Import Statements\n",
        "install.packages(\"haven\")\n",
        "library(haven)\n",
        "library(dplyr)"
      ]
    },
    {
      "cell_type": "code",
      "source": [
        "## Load Data File\n",
        "url <- \"https://raw.githubusercontent.com/Sophie-X31/ECO372-Problem-Sets/main/star.dta\"\n",
        "data <- read_dta(url)\n",
        "head(data)"
      ],
      "metadata": {
        "colab": {
          "base_uri": "https://localhost:8080/",
          "height": 286
        },
        "id": "olcpX1U9PQaN",
        "outputId": "469e3472-2b5b-47d6-f570-0a66cfb5e755"
      },
      "execution_count": 3,
      "outputs": [
        {
          "output_type": "display_data",
          "data": {
            "text/html": [
              "<table class=\"dataframe\">\n",
              "<caption>A tibble: 6 × 7</caption>\n",
              "<thead>\n",
              "\t<tr><th scope=col>schidkn</th><th scope=col>pscore</th><th scope=col>classid</th><th scope=col>cs</th><th scope=col>female</th><th scope=col>nwhite</th><th scope=col>n</th></tr>\n",
              "\t<tr><th scope=col>&lt;dbl+lbl&gt;</th><th scope=col>&lt;dbl&gt;</th><th scope=col>&lt;dbl&gt;</th><th scope=col>&lt;dbl&gt;</th><th scope=col>&lt;dbl&gt;</th><th scope=col>&lt;dbl&gt;</th><th scope=col>&lt;dbl&gt;</th></tr>\n",
              "</thead>\n",
              "<tbody>\n",
              "\t<tr><td>22</td><td>0.00000000</td><td> 6317</td><td>15</td><td>0</td><td>1</td><td>1</td></tr>\n",
              "\t<tr><td>33</td><td>0.07998101</td><td> 9700</td><td>26</td><td>1</td><td>1</td><td>1</td></tr>\n",
              "\t<tr><td>56</td><td>0.03059830</td><td>16647</td><td>21</td><td>0</td><td>0</td><td>1</td></tr>\n",
              "\t<tr><td>33</td><td>1.07327640</td><td> 9700</td><td>26</td><td>0</td><td>1</td><td>1</td></tr>\n",
              "\t<tr><td>45</td><td>0.35722697</td><td>13400</td><td>24</td><td>0</td><td>1</td><td>1</td></tr>\n",
              "\t<tr><td>45</td><td>1.41278255</td><td>13400</td><td>24</td><td>0</td><td>1</td><td>1</td></tr>\n",
              "</tbody>\n",
              "</table>\n"
            ],
            "text/markdown": "\nA tibble: 6 × 7\n\n| schidkn &lt;dbl+lbl&gt; | pscore &lt;dbl&gt; | classid &lt;dbl&gt; | cs &lt;dbl&gt; | female &lt;dbl&gt; | nwhite &lt;dbl&gt; | n &lt;dbl&gt; |\n|---|---|---|---|---|---|---|\n| 22 | 0.00000000 |  6317 | 15 | 0 | 1 | 1 |\n| 33 | 0.07998101 |  9700 | 26 | 1 | 1 | 1 |\n| 56 | 0.03059830 | 16647 | 21 | 0 | 0 | 1 |\n| 33 | 1.07327640 |  9700 | 26 | 0 | 1 | 1 |\n| 45 | 0.35722697 | 13400 | 24 | 0 | 1 | 1 |\n| 45 | 1.41278255 | 13400 | 24 | 0 | 1 | 1 |\n\n",
            "text/latex": "A tibble: 6 × 7\n\\begin{tabular}{lllllll}\n schidkn & pscore & classid & cs & female & nwhite & n\\\\\n <dbl+lbl> & <dbl> & <dbl> & <dbl> & <dbl> & <dbl> & <dbl>\\\\\n\\hline\n\t 22 & 0.00000000 &  6317 & 15 & 0 & 1 & 1\\\\\n\t 33 & 0.07998101 &  9700 & 26 & 1 & 1 & 1\\\\\n\t 56 & 0.03059830 & 16647 & 21 & 0 & 0 & 1\\\\\n\t 33 & 1.07327640 &  9700 & 26 & 0 & 1 & 1\\\\\n\t 45 & 0.35722697 & 13400 & 24 & 0 & 1 & 1\\\\\n\t 45 & 1.41278255 & 13400 & 24 & 0 & 1 & 1\\\\\n\\end{tabular}\n",
            "text/plain": [
              "  schidkn pscore     classid cs female nwhite n\n",
              "1 22      0.00000000  6317   15 0      1      1\n",
              "2 33      0.07998101  9700   26 1      1      1\n",
              "3 56      0.03059830 16647   21 0      0      1\n",
              "4 33      1.07327640  9700   26 0      1      1\n",
              "5 45      0.35722697 13400   24 0      1      1\n",
              "6 45      1.41278255 13400   24 0      1      1"
            ]
          },
          "metadata": {}
        }
      ]
    },
    {
      "cell_type": "code",
      "source": [
        "## Inspect Data\n",
        "# print(dim(data))\n",
        "# print(colnames(data))\n",
        "# print(\"Number of NA values in Columns:\")\n",
        "# na_columns <- colSums(is.na(data))\n",
        "# print(na_columns[na_columns > 0])\n",
        "data <- na.omit(data)\n",
        "\n",
        "# Generate Dummy Variable\n",
        "data$small <- ifelse(data$cs <= 17, 1, 0)\n",
        "\n",
        "# Run OLS Analysis\n",
        "ols_model <- lm(pscore ~ small, data = data)\n",
        "print(summary(ols_model))\n",
        "\n",
        "ols_model_b <- lm(pscore ~ small + female + nwhite, data = data)\n",
        "print(summary(ols_model_b))"
      ],
      "metadata": {
        "colab": {
          "base_uri": "https://localhost:8080/"
        },
        "id": "i3XF2gyqPSiI",
        "outputId": "bac1ce23-ee89-49c3-a9eb-7575e93d662c"
      },
      "execution_count": 18,
      "outputs": [
        {
          "output_type": "stream",
          "name": "stdout",
          "text": [
            "\n",
            "Call:\n",
            "lm(formula = pscore ~ small, data = data)\n",
            "\n",
            "Residuals:\n",
            "    Min      1Q  Median      3Q     Max \n",
            "-54.762 -22.347   0.981  22.669  49.721 \n",
            "\n",
            "Coefficients:\n",
            "            Estimate Std. Error t value Pr(>|t|)    \n",
            "(Intercept)  50.0050     0.4319 115.776  < 2e-16 ***\n",
            "small         4.7571     0.7626   6.238 4.74e-10 ***\n",
            "---\n",
            "Signif. codes:  0 ‘***’ 0.001 ‘**’ 0.01 ‘*’ 0.05 ‘.’ 0.1 ‘ ’ 1\n",
            "\n",
            "Residual standard error: 26.97 on 5740 degrees of freedom\n",
            "Multiple R-squared:  0.006734,\tAdjusted R-squared:  0.006561 \n",
            "F-statistic: 38.91 on 1 and 5740 DF,  p-value: 4.743e-10\n",
            "\n",
            "\n",
            "Call:\n",
            "lm(formula = pscore ~ small + female + nwhite, data = data)\n",
            "\n",
            "Residuals:\n",
            "    Min      1Q  Median      3Q     Max \n",
            "-59.279 -21.298   0.717  21.590  58.877 \n",
            "\n",
            "Coefficients:\n",
            "            Estimate Std. Error t value Pr(>|t|)    \n",
            "(Intercept)  51.1047     0.5890  86.764  < 2e-16 ***\n",
            "small         4.6527     0.7446   6.248 4.45e-10 ***\n",
            "female        5.3317     0.6956   7.665 2.09e-14 ***\n",
            "nwhite      -11.2188     0.7414 -15.132  < 2e-16 ***\n",
            "---\n",
            "Signif. codes:  0 ‘***’ 0.001 ‘**’ 0.01 ‘*’ 0.05 ‘.’ 0.1 ‘ ’ 1\n",
            "\n",
            "Residual standard error: 26.34 on 5738 degrees of freedom\n",
            "Multiple R-squared:  0.0533,\tAdjusted R-squared:  0.05281 \n",
            "F-statistic: 107.7 on 3 and 5738 DF,  p-value: < 2.2e-16\n",
            "\n"
          ]
        }
      ]
    },
    {
      "cell_type": "code",
      "source": [
        "# Define the Four Strata\n",
        "data$stratum <- interaction(data$female, data$nwhite, sep = \"_\")\n",
        "data$stratum <- factor(data$stratum,\n",
        "                       levels = c(\"0_0\", \"0_1\", \"1_0\", \"1_1\"),\n",
        "                       labels = c(\"Male_White\", \"Male_Nonwhite\", \"Female_White\", \"Female_Nonwhite\"))\n",
        "\n",
        "# Find Proportion\n",
        "strata_proportions <- prop.table(table(data$stratum))\n",
        "print(strata_proportions)\n",
        "\n",
        "# Compute TE\n",
        "strata_treatment_effects <- tapply(data$pscore, list(data$stratum, data$small), mean)\n",
        "print(strata_treatment_effects)"
      ],
      "metadata": {
        "colab": {
          "base_uri": "https://localhost:8080/"
        },
        "id": "RORyYn4sSZGz",
        "outputId": "61801b47-ccf3-45dd-fa91-8ade3e852e5f"
      },
      "execution_count": 21,
      "outputs": [
        {
          "output_type": "stream",
          "name": "stdout",
          "text": [
            "\n",
            "     Male_White   Male_Nonwhite    Female_White Female_Nonwhite \n",
            "      0.3510972       0.1617903       0.3223615       0.1647510 \n",
            "                       0        1\n",
            "Male_White      51.17470 56.40480\n",
            "Male_Nonwhite   38.72314 45.40843\n",
            "Female_White    56.51422 60.02824\n",
            "Female_Nonwhite 46.12584 49.72900\n"
          ]
        }
      ]
    },
    {
      "cell_type": "code",
      "source": [
        "# Summarize Proportions\n",
        "prop_female_small_1 <- mean(data$female[data$small == 1])\n",
        "prop_female_small_0 <- mean(data$female[data$small == 0])\n",
        "prop_nwhite_small_1 <- mean(data$nwhite[data$small == 1])\n",
        "prop_nwhite_small_0 <- mean(data$nwhite[data$small == 0])\n",
        "\n",
        "cat(\"Proportion of individuals with female = 1 among small = 1: \", prop_female_small_1, \"\\n\")\n",
        "cat(\"Proportion of individuals with female = 1 among small = 0: \", prop_female_small_0, \"\\n\")\n",
        "cat(\"Proportion of individuals with nwhite = 1 among small = 1: \", prop_nwhite_small_1, \"\\n\")\n",
        "cat(\"Proportion of individuals with nwhite = 1 among small = 0: \", prop_nwhite_small_0, \"\\n\")"
      ],
      "metadata": {
        "colab": {
          "base_uri": "https://localhost:8080/"
        },
        "id": "EyRlmaqZT6RW",
        "outputId": "6d94c02a-0148-40ff-8557-9b878f6c2870"
      },
      "execution_count": 20,
      "outputs": [
        {
          "output_type": "stream",
          "name": "stdout",
          "text": [
            "Proportion of individuals with female = 1 among small = 1:  0.4918567 \n",
            "Proportion of individuals with female = 1 among small = 0:  0.4848718 \n",
            "Proportion of individuals with nwhite = 1 among small = 1:  0.3224756 \n",
            "Proportion of individuals with nwhite = 1 among small = 0:  0.3284615 \n"
          ]
        }
      ]
    }
  ]
}